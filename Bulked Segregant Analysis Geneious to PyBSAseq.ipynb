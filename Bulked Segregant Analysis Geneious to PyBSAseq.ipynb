{
 "cells": [
  {
   "cell_type": "code",
   "execution_count": 1,
   "metadata": {},
   "outputs": [
    {
     "name": "stdout",
     "output_type": "stream",
     "text": [
      "Requirement already satisfied: fisher in c:\\users\\jat363\\appdata\\local\\continuum\\anaconda3\\lib\\site-packages (0.1.9)\n"
     ]
    }
   ],
   "source": [
    "import sys\n",
    "!pip install fisher"
   ]
  },
  {
   "cell_type": "code",
   "execution_count": 2,
   "metadata": {},
   "outputs": [],
   "source": [
    "#Take Geneious output and convert to PyBSA input"
   ]
  },
  {
   "cell_type": "code",
   "execution_count": 99,
   "metadata": {},
   "outputs": [],
   "source": [
    "#Filter SNPs, add columns for one chromosome of one bulk\n",
    "\n",
    "\n",
    "import pandas as pd\n",
    "\n",
    "df = pd.read_csv(r'C:\\Users\\jat363\\Documents\\EarlyUmqua1.csv')\n",
    "\n",
    "#Filter out to SNPs only\n",
    "df1=df[(df[\"Polymorphism Type\"] == \"SNP (transversion)\") | (df[\"Polymorphism Type\"] == \"SNP (transition)\")]\n",
    "df2=df1[(df1[\"Coverage\"].str.isnumeric())]\n",
    "df2 = df2.dropna()\n",
    "#df2=df2[(df2[\"Minimum\"].str.isnumeric()).fillna(False)]\n",
    "#df2=df2[(df2[\"Minimum\"].str.isnumeric())]\n",
    "df2=df2[pd.to_numeric(df2[\"Coverage\"]) <=250]\n",
    "df2=df2[pd.to_numeric(df2[\"Coverage\"]) >=10]\n",
    "df2=df2[pd.to_numeric(df2[\"Average Quality\"]) >=20]\n",
    "\n",
    "#Add GQ\n",
    "df2[\"Alive.GQ\"]='99'\n",
    "\n",
    "#Add Chrom\n",
    "df2[\"CHROM\"]=\"NC_044371.1\"\n",
    "\n",
    "#Calculate Ref_reads\n",
    "df2[\"Ref_reads\"]=((pd.to_numeric(df2[\"Coverage\"])-pd.to_numeric(df2[\"Variant Raw Frequency\"])))\n",
    "\n",
    "#Add AD\n",
    "df2['Alive.AD'] =\"\"+ df2['Ref_reads'].astype(str)+ \",\" + df2[\"Variant Raw Frequency\"].astype(str)+\"\"\n",
    "\n",
    "#Add GT\n",
    "df2.loc[pd.to_numeric(df2['Variant Raw Frequency']) / pd.to_numeric(df2[\"Coverage\"]) <0.25, 'Early.GT'] = df2[\"Reference Nucleotide(s)\"]  + \"/\" +df2[\"Reference Nucleotide(s)\"]\n",
    "df2.loc[pd.to_numeric(df2['Variant Raw Frequency']) / pd.to_numeric(df2[\"Coverage\"]) >=0.25 , 'Early.GT'] = df2[\"Reference Nucleotide(s)\"]  + \"/\" +df2[\"Variant Nucleotide(s)\"]\n",
    "df2.loc[pd.to_numeric(df2['Variant Raw Frequency']) / pd.to_numeric(df2[\"Coverage\"]) >=0.75 , 'Early.GT'] = df2[\"Variant Nucleotide(s)\"]  + \"/\" +df2[\"Variant Nucleotide(s)\"]\n",
    "\n",
    "#Change names \n",
    "df2.rename(columns = {'Minimum':'POS', \"Reference Nucleotide(s)\":\"REF\", \"Variant Nucleotide(s)\": \"ALT\", \"Average Quality\": \"QUAL\"}, inplace = True)\n",
    "\n",
    "#Drop columns\n",
    "df2=df2[[\"POS\", \"REF\", \"ALT\", \"QUAL\",\"Early.AD\", \"Early.GQ\", \"Early.GT\", \"CHROM\" ]]\n",
    "\n",
    "df2.to_csv(\"EarlyUmpqua1_SNPs.csv\")"
   ]
  },
  {
   "cell_type": "code",
   "execution_count": 111,
   "metadata": {
    "scrolled": true
   },
   "outputs": [],
   "source": [
    "#Combine bulk SNP files of same chromosome\n",
    "\n",
    "#import files\n",
    "df1=pd.read_csv(r'C:\\Users\\jat363\\EarlyUmpqua1_SNPs.csv)\n",
    "df2=pd.read_csv(r'C:\\Users\\jat363\\LateUmpqua1_SNPs.csv)\n",
    "\n",
    "#Find intersection\n",
    "a=(list(set(pd.to_numeric(df1[\"POS\"])) & set(pd.to_numeric(df2[\"POS\"]))))\n",
    "\n",
    "#Find rows with intersections, remove duplicates\n",
    "df3=df1[pd.to_numeric(df1[\"POS\"]).isin(a)].drop_duplicates(subset=['POS'])\n",
    "df4=df2[pd.to_numeric(df2[\"POS\"]).isin(a)].drop_duplicates(subset=['POS'])\n",
    "\n",
    "#reset index\n",
    "df3 = df3.reset_index(drop=True)\n",
    "df4 = df4.reset_index(drop=True)\n",
    "\n",
    "#concatentate\n",
    "\n",
    "df5=pd.concat([df3,df4],axis=1)\n",
    "df5[\"CHROM\"]=\"NC_044371.1\"\n",
    "\n",
    "#save as .csv\n",
    "df5.to_csv(\"Umpqua_Chr1_1.csv\")"
   ]
  },
  {
   "cell_type": "code",
   "execution_count": 2,
   "metadata": {},
   "outputs": [],
   "source": [
    "#Combine all chromosomes into one file\n",
    "\n",
    "import pandas as pd\n",
    "df1=pd.read_csv(r'C:\\Users\\jat363\\PyBSASeq-master\\BulksOnly\\Umpqua_Chr1_1.csv')\n",
    "df2=pd.read_csv(r'C:\\Users\\jat363\\PyBSASeq-master\\BulksOnly\\Umpqua_Chr2_1.csv')\n",
    "df3=pd.read_csv(r'C:\\Users\\jat363\\PyBSASeq-master\\BulksOnly\\Umpqua_Chr4.csv')\n",
    "df4=pd.read_csv(r'C:\\Users\\jat363\\PyBSASeq-master\\BulksOnly\\Umpqua_Chr5.csv')\n",
    "df5=pd.read_csv(r'C:\\Users\\jat363\\PyBSASeq-master\\BulksOnly\\Umpqua_Chr6.csv')\n",
    "df6=pd.read_csv(r'C:\\Users\\jat363\\PyBSASeq-master\\BulksOnly\\Umpqua_Chr7.csv')\n",
    "df7=pd.read_csv(r'C:\\Users\\jat363\\PyBSASeq-master\\BulksOnly\\Umpqua_Chr8.csv')\n",
    "df8=pd.read_csv(r'C:\\Users\\jat363\\PyBSASeq-master\\BulksOnly\\Umpqua_Chr9.csv')\n",
    "df9=pd.read_csv(r'C:\\Users\\jat363\\PyBSASeq-master\\BulksOnly\\Umpqua_Chr10.csv')\n",
    "df10=pd.read_csv(r'C:\\Users\\jat363\\PyBSASeq-master\\BulksOnly\\Umpqua_ChrX_1.csv')\n",
    "df11=pd.concat([df1,df2, df3, df4, df5, df6, df7, df8, df9, df10],axis=0)\n",
    "\n",
    "df11.to_csv(\"Umpqua_Allchrom_1.csv\")"
   ]
  }
 ],
 "metadata": {
  "kernelspec": {
   "display_name": "Python 3",
   "language": "python",
   "name": "python3"
  },
  "language_info": {
   "codemirror_mode": {
    "name": "ipython",
    "version": 3
   },
   "file_extension": ".py",
   "mimetype": "text/x-python",
   "name": "python",
   "nbconvert_exporter": "python",
   "pygments_lexer": "ipython3",
   "version": "3.7.3"
  }
 },
 "nbformat": 4,
 "nbformat_minor": 2
}
